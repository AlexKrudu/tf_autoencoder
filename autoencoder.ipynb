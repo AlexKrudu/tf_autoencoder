{
 "cells": [
  {
   "cell_type": "code",
   "execution_count": null,
   "metadata": {
    "collapsed": true
   },
   "outputs": [],
   "source": [
    "import tensorflow as tf\n",
    "import matplotlib.pyplot as plt\n",
    "from sklearn.model_selection import train_test_split\n",
    "import numpy as np\n",
    "from skimage import io\n",
    "import os\n",
    "import keras\n",
    "import keras.layers as L\n",
    "import skimage.transform"
   ]
  },
  {
   "cell_type": "code",
   "execution_count": null,
   "outputs": [],
   "source": [
    "def show_image(x):\n",
    "    plt.imshow(x, cmap=plt.get_cmap('gray'))\n",
    "\n",
    "\n",
    "def visualize(img, encoder, decoder):\n",
    "    \"\"\"Draws original, encoded and decoded images\"\"\"\n",
    "    code = encoder.predict(img[None])[0]  # img[None] is the same as img[np.newaxis, :]\n",
    "    reco = decoder.predict(code[None])[0]\n",
    "\n",
    "    plt.subplot(1, 3, 1)\n",
    "    plt.title(\"Original\")\n",
    "    show_image(img)\n",
    "\n",
    "    plt.subplot(1, 3, 2)\n",
    "    plt.title(\"Code\")\n",
    "    plt.imshow(code.reshape([code.shape[-1] // 2, -1]))\n",
    "\n",
    "    plt.subplot(1, 3, 3)\n",
    "    plt.title(\"Reconstructed\")\n",
    "    show_image(reco)\n",
    "    plt.show()\n",
    "\n",
    "\n",
    "def load_set():\n",
    "    return np.array(list(map(\n",
    "        lambda x: skimage.transform.resize(io.imread(os.path.join('pokemon_set/images', x), as_gray=True), (64, 64),\n",
    "                                           mode='edge',\n",
    "                                           anti_aliasing=False,\n",
    "                                           anti_aliasing_sigma=None,\n",
    "                                           preserve_range=True,\n",
    "                                           order=0),\n",
    "        os.listdir('pokemon_set/images'))))\n",
    "\n",
    "\n",
    "def build_autoencoder(img_shape, code_size):\n",
    "    encoder = keras.models.Sequential()\n",
    "    encoder.add(L.InputLayer(img_shape))\n",
    "    encoder.add(L.Conv2D(32, (3, 3), (1, 1), padding=\"same\", activation=\"elu\"))\n",
    "    encoder.add(L.MaxPooling2D((2, 2)))\n",
    "    encoder.add(L.Conv2D(64, (3, 3), (1, 1), padding=\"same\", activation=\"elu\"))\n",
    "    encoder.add(L.MaxPooling2D((2, 2)))\n",
    "    encoder.add(L.Conv2D(128, (3, 3), (1, 1), padding=\"same\", activation=\"elu\"))\n",
    "    encoder.add(L.MaxPooling2D((2, 2)))\n",
    "    encoder.add(L.Conv2D(256, (5, 5), (1, 1), padding=\"same\", activation=\"elu\"))\n",
    "    encoder.add(L.MaxPooling2D((2, 2)))\n",
    "    encoder.add(L.Conv2D(512, (5, 5), (1, 1), padding=\"same\", activation=\"elu\"))\n",
    "    encoder.add(L.MaxPooling2D((2, 2)))\n",
    "    encoder.add(L.Flatten())\n",
    "    encoder.add(L.Dense(code_size))\n",
    "\n",
    "    decoder = keras.models.Sequential()\n",
    "    decoder.add(L.InputLayer((code_size,)))\n",
    "    decoder.add(L.Dense(2 * 2 * 512))\n",
    "    decoder.add(L.Reshape((2, 2, 512)))\n",
    "    decoder.add(L.Conv2DTranspose(filters=256, kernel_size=(5, 5), strides=2, activation='elu', padding='same'))\n",
    "    decoder.add(L.Conv2DTranspose(filters=128, kernel_size=(5, 5), strides=2, activation='elu', padding='same'))\n",
    "    decoder.add(L.Conv2DTranspose(filters=64, kernel_size=(3, 3), strides=2, activation='elu', padding='same'))\n",
    "    decoder.add(L.Conv2DTranspose(filters=32, kernel_size=(3, 3), strides=2, activation='elu', padding='same'))\n",
    "    decoder.add(L.Conv2DTranspose(filters=1, kernel_size=(3, 3), strides=2, activation=None, padding='same'))\n",
    "\n",
    "    return encoder, decoder"
   ],
   "metadata": {
    "collapsed": false,
    "pycharm": {
     "name": "#%%\n"
    }
   }
  },
  {
   "cell_type": "code",
   "execution_count": null,
   "outputs": [],
   "source": [
    "img_set = load_set()\n",
    "print(img_set.shape)\n",
    "IMG_SHAPE = (64, 64, 1)\n",
    "\n",
    "plt.title('sample images')\n",
    "\n",
    "for i in range(6):\n",
    "    plt.subplot(2, 3, i + 1)\n",
    "    show_image(img_set[i + 200])  # Showing some images\n",
    "plt.show()"
   ],
   "metadata": {
    "collapsed": false,
    "pycharm": {
     "name": "#%%\n"
    }
   }
  },
  {
   "cell_type": "code",
   "execution_count": null,
   "outputs": [],
   "source": [
    "encoder, decoder = build_autoencoder(IMG_SHAPE, 32)\n",
    "encoder.summary()\n",
    "decoder.summary()\n",
    "X_train, X_test = train_test_split(img_set, test_size=0.15, random_state=47)\n",
    "\n",
    "inp = L.InputLayer(IMG_SHAPE)\n",
    "code = encoder(inp)\n",
    "reconstructed = decoder(code)\n",
    "\n",
    "autoencoder = keras.models.Model(inputs=inp, outputs=reconstructed)\n",
    "autoencoder.compile(optimizer=\"adamax\", loss='mse')"
   ],
   "metadata": {
    "collapsed": false,
    "pycharm": {
     "name": "#%%\n"
    }
   }
  },
  {
   "cell_type": "code",
   "execution_count": null,
   "outputs": [],
   "source": [
    "autoencoder.fit(x=X_train, y=X_train, epochs=25,\n",
    "                validation_data=[X_test, X_test],\n",
    "                verbose=1,\n",
    "                initial_epoch=0)  #"
   ],
   "metadata": {
    "collapsed": false,
    "pycharm": {
     "name": "#%%\n"
    }
   }
  }
 ],
 "metadata": {
  "kernelspec": {
   "display_name": "Python 3",
   "language": "python",
   "name": "python3"
  },
  "language_info": {
   "codemirror_mode": {
    "name": "ipython",
    "version": 2
   },
   "file_extension": ".py",
   "mimetype": "text/x-python",
   "name": "python",
   "nbconvert_exporter": "python",
   "pygments_lexer": "ipython2",
   "version": "2.7.6"
  }
 },
 "nbformat": 4,
 "nbformat_minor": 0
}